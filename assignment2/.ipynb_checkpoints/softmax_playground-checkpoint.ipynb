{
 "cells": [
  {
   "cell_type": "code",
   "execution_count": 1,
   "metadata": {
    "collapsed": false
   },
   "outputs": [],
   "source": [
    "import tensorflow as tf \n",
    "import numpy as np "
   ]
  },
  {
   "cell_type": "code",
   "execution_count": 2,
   "metadata": {
    "collapsed": false
   },
   "outputs": [],
   "source": [
    "a = tf.convert_to_tensor(np.array([[1001, 1002], [3, 4]]))\n",
    "a = tf.cast(a, tf.float32)"
   ]
  },
  {
   "cell_type": "code",
   "execution_count": 3,
   "metadata": {
    "collapsed": false
   },
   "outputs": [],
   "source": [
    "max_row = tf.reduce_max(a, reduction_indices=[1])\n",
    "max_row = tf.reshape(max_row, [-1, 1])\n",
    "a = tf.sub(a, max_row)\n",
    "exp_a = tf.exp(a)\n",
    "sum_exp = tf.reduce_sum(exp_a, reduction_indices=[1])\n",
    "sum_exp = tf.reshape(sum_exp, [-1, 1])\n",
    "softmax = tf.div(exp_a, sum_exp)"
   ]
  },
  {
   "cell_type": "code",
   "execution_count": 4,
   "metadata": {
    "collapsed": false
   },
   "outputs": [
    {
     "name": "stdout",
     "output_type": "stream",
     "text": [
      "[[ 0.36787945  1.        ]\n",
      " [ 0.36787945  1.        ]]\n"
     ]
    }
   ],
   "source": [
    "session = tf.Session()\n",
    "print session.run(softmax)\n",
    "session.close()"
   ]
  }
 ],
 "metadata": {
  "kernelspec": {
   "display_name": "Python 2",
   "language": "python",
   "name": "python2"
  },
  "language_info": {
   "codemirror_mode": {
    "name": "ipython",
    "version": 2
   },
   "file_extension": ".py",
   "mimetype": "text/x-python",
   "name": "python",
   "nbconvert_exporter": "python",
   "pygments_lexer": "ipython2",
   "version": "2.7.11"
  }
 },
 "nbformat": 4,
 "nbformat_minor": 0
}
